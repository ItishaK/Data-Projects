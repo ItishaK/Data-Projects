{
 "cells": [
  {
   "cell_type": "markdown",
   "id": "62ba5010",
   "metadata": {},
   "source": [
    "<h1>Project 1: Invoice Processing & Payment Delay Analysis</h1>"
   ]
  },
  {
   "cell_type": "code",
   "execution_count": 1,
   "id": "23d1178e",
   "metadata": {},
   "outputs": [
    {
     "name": "stdout",
     "output_type": "stream",
     "text": [
      "Available logical cores: 8\n"
     ]
    }
   ],
   "source": [
    "import multiprocessing\n",
    "print(\"Available logical cores:\", multiprocessing.cpu_count())"
   ]
  },
  {
   "cell_type": "code",
   "execution_count": 2,
   "id": "cd059d49",
   "metadata": {},
   "outputs": [],
   "source": [
    "from pyspark.sql import SparkSession"
   ]
  },
  {
   "cell_type": "code",
   "execution_count": 30,
   "id": "f002f1e6",
   "metadata": {},
   "outputs": [],
   "source": [
    "from pyspark.sql.functions import date_diff, col, when, sum, count, \\\n",
    "date_format, to_date, current_date, year"
   ]
  },
  {
   "cell_type": "code",
   "execution_count": 4,
   "id": "81a9da10",
   "metadata": {},
   "outputs": [],
   "source": [
    "spark = SparkSession.builder \\\n",
    "    .appName(\"TestApp\") \\\n",
    "    .master(\"local[4]\") \\\n",
    "    .config(\"spark.driver.memory\", \"4g\") \\\n",
    "    .getOrCreate()"
   ]
  },
  {
   "cell_type": "markdown",
   "id": "87bd70bb",
   "metadata": {},
   "source": [
    "<h3> Read data from the csv files: Invoices, Payments and Vendors</h3>"
   ]
  },
  {
   "cell_type": "code",
   "execution_count": 5,
   "id": "f2c371d7",
   "metadata": {},
   "outputs": [
    {
     "name": "stdout",
     "output_type": "stream",
     "text": [
      "+----------+---------+------------+----------+------+\n",
      "|invoice_id|vendor_id|invoice_date|  due_date|amount|\n",
      "+----------+---------+------------+----------+------+\n",
      "|    INV001|     V001|  2024-01-05|2024-01-20|  2500|\n",
      "|    INV002|     V002|  2024-01-07|2024-01-17|  4600|\n",
      "|    INV003|     V001|  2024-01-10|2024-01-25|  1250|\n",
      "|    INV004|     V003|  2024-01-15|2024-01-30|  3000|\n",
      "|    INV005|     V002|  2024-01-20|2024-02-01|  5000|\n",
      "|    INV006|     V003|  2024-01-16|2024-02-01|  3500|\n",
      "+----------+---------+------------+----------+------+\n",
      "\n"
     ]
    }
   ],
   "source": [
    "invoices_df = spark.read.csv('invoices.csv', header=True, inferSchema=True)\n",
    "invoices_df.show()"
   ]
  },
  {
   "cell_type": "code",
   "execution_count": 45,
   "id": "d536930f",
   "metadata": {},
   "outputs": [
    {
     "name": "stdout",
     "output_type": "stream",
     "text": [
      "+----------+----------+------------+\n",
      "|payment_id|invoice_id|payment_date|\n",
      "+----------+----------+------------+\n",
      "|    PAY101|    INV001|  2024-01-19|\n",
      "|    PAY102|    INV002|  2024-01-18|\n",
      "|    PAY103|    INV003|  2024-01-23|\n",
      "|    PAY104|    INV004|  2024-02-01|\n",
      "|    PAY105|    INV005|  2024-01-31|\n",
      "|    PAY106|    INV006|  2024-02-01|\n",
      "+----------+----------+------------+\n",
      "\n"
     ]
    }
   ],
   "source": [
    "payments_df = spark.read.csv('payments.csv', header=True, inferSchema=True)\n",
    "payments_df.show()"
   ]
  },
  {
   "cell_type": "code",
   "execution_count": 7,
   "id": "780227c9",
   "metadata": {},
   "outputs": [
    {
     "name": "stdout",
     "output_type": "stream",
     "text": [
      "+---------+-----------+\n",
      "|vendor_id|vendor_name|\n",
      "+---------+-----------+\n",
      "|     V001| Alpha Inc.|\n",
      "|     V002|   Beta LLC|\n",
      "|     V003| Gamma Corp|\n",
      "+---------+-----------+\n",
      "\n"
     ]
    }
   ],
   "source": [
    "vendors_df = spark.read.csv('vendors.csv', header=True, inferSchema=True)\n",
    "vendors_df.show()"
   ]
  },
  {
   "cell_type": "code",
   "execution_count": 46,
   "id": "5e460655",
   "metadata": {},
   "outputs": [
    {
     "name": "stdout",
     "output_type": "stream",
     "text": [
      "+----------+---------+------------+--------+------+\n",
      "|invoice_id|vendor_id|invoice_date|due_date|amount|\n",
      "+----------+---------+------------+--------+------+\n",
      "|         0|        0|           0|       0|     0|\n",
      "+----------+---------+------------+--------+------+\n",
      "\n",
      "+----------+----------+------------+\n",
      "|payment_id|invoice_id|payment_date|\n",
      "+----------+----------+------------+\n",
      "|         0|         0|           0|\n",
      "+----------+----------+------------+\n",
      "\n",
      "+---------+-----------+\n",
      "|vendor_id|vendor_name|\n",
      "+---------+-----------+\n",
      "|        0|          0|\n",
      "+---------+-----------+\n",
      "\n"
     ]
    }
   ],
   "source": [
    "# Let's first do Data Quality checks on all the input datasets\n",
    "# Checking for nulls:\n",
    "invoices_df.select([count(when(col(c).isNull(), c)).alias(c) for c in invoices_df.columns]).show()\n",
    "payments_df.select([count(when(col(c).isNull(), c)).alias(c) for c in payments_df.columns]).show()\n",
    "vendors_df.select([count(when(col(c).isNull(), c)).alias(c) for c in vendors_df.columns]).show()"
   ]
  },
  {
   "cell_type": "code",
   "execution_count": 47,
   "id": "5370d953",
   "metadata": {},
   "outputs": [
    {
     "name": "stdout",
     "output_type": "stream",
     "text": [
      "root\n",
      " |-- invoice_id: string (nullable = true)\n",
      " |-- vendor_id: string (nullable = true)\n",
      " |-- invoice_date: date (nullable = true)\n",
      " |-- due_date: date (nullable = true)\n",
      " |-- amount: integer (nullable = true)\n",
      "\n",
      "root\n",
      " |-- payment_id: string (nullable = true)\n",
      " |-- invoice_id: string (nullable = true)\n",
      " |-- payment_date: date (nullable = true)\n",
      "\n",
      "root\n",
      " |-- vendor_id: string (nullable = true)\n",
      " |-- vendor_name: string (nullable = true)\n",
      "\n"
     ]
    }
   ],
   "source": [
    "# check the schema first for all dataframes\n",
    "invoices_df.printSchema()\n",
    "payments_df.printSchema()\n",
    "vendors_df.printSchema()"
   ]
  },
  {
   "cell_type": "code",
   "execution_count": 48,
   "id": "aad84676",
   "metadata": {},
   "outputs": [],
   "source": [
    "# Validating Date formats\n",
    "# If the date is malformed (e.g., \"2024-99-10\"), it becomes null.\n",
    "# We have three date columns (invoice_date, due_date in invoices_df and payment_date in payments_df)\n",
    "invoices_df = invoices_df.withColumn('invoice_date', to_date('invoice_date', 'yyyy-MM-dd'))\n",
    "invoices_df = invoices_df.withColumn('due_date', to_date('due_date', 'yyyy-MM-dd'))\n",
    "payments_df = payments_df.withColumn('payment_date', to_date('payment_date', 'yyyy-MM-dd'))"
   ]
  },
  {
   "cell_type": "markdown",
   "id": "ec0b64e8",
   "metadata": {},
   "source": [
    "<h3>Validating Date formats</h3>\n",
    "If the date is malformed (e.g., \"2024-99-10\"), it becomes null.<br>\n",
    "We have three date columns (invoice_date, due_date in invoices_df and payment_date in payments_df)"
   ]
  },
  {
   "cell_type": "code",
   "execution_count": 24,
   "id": "04cd440c",
   "metadata": {},
   "outputs": [],
   "source": [
    "invoices_df = invoices_df.withColumn('invoice_date', to_date('invoice_date', 'yyyy-MM-dd'))\\\n",
    "                        .withColumn('due_date', to_date('due_date', 'yyyy-MM-dd'))\\\n",
    "                        .filter(col('invoice_date').isNotNull())\\\n",
    "                        .filter(col('due_date').isNotNull())"
   ]
  },
  {
   "cell_type": "code",
   "execution_count": 49,
   "id": "e90fb42b",
   "metadata": {},
   "outputs": [],
   "source": [
    "payments_df = payments_df.withColumn('payment_date', to_date('payment_date', 'yyyy-MM-dd'))\\\n",
    "                            .filter(col('payment_date').isNotNull())"
   ]
  },
  {
   "cell_type": "code",
   "execution_count": 26,
   "id": "627fc2f1",
   "metadata": {},
   "outputs": [
    {
     "name": "stdout",
     "output_type": "stream",
     "text": [
      "+----------+------------+--------+\n",
      "|invoice_id|invoice_date|due_date|\n",
      "+----------+------------+--------+\n",
      "+----------+------------+--------+\n",
      "\n",
      "+----------+------------+\n",
      "|invoice_id|payment_date|\n",
      "+----------+------------+\n",
      "+----------+------------+\n",
      "\n"
     ]
    }
   ],
   "source": [
    "# Find Malformed Dates (Converted as Null)\n",
    "invoice_invalid_dts = invoices_df.select('invoice_id', 'invoice_date', 'due_date')\\\n",
    "                            .filter(col('invoice_date').isNull())\\\n",
    "                            .filter(col('due_date').isNull())\n",
    "invoice_invalid_dts.show()\n",
    "payments_invalid_dts = payments_df.select('invoice_id', 'payment_date')\\\n",
    "                                    .filter(col('payment_date').isNull())\n",
    "payments_invalid_dts.show()"
   ]
  },
  {
   "cell_type": "code",
   "execution_count": 18,
   "id": "3bfb30fb",
   "metadata": {},
   "outputs": [
    {
     "data": {
      "text/plain": [
       "6"
      ]
     },
     "execution_count": 18,
     "metadata": {},
     "output_type": "execute_result"
    }
   ],
   "source": [
    "# Validating counts\n",
    "invoices_df.count()"
   ]
  },
  {
   "cell_type": "code",
   "execution_count": 50,
   "id": "58117458",
   "metadata": {},
   "outputs": [
    {
     "data": {
      "text/plain": [
       "6"
      ]
     },
     "execution_count": 50,
     "metadata": {},
     "output_type": "execute_result"
    }
   ],
   "source": [
    "payments_df.count()"
   ]
  },
  {
   "cell_type": "code",
   "execution_count": 20,
   "id": "7af1342d",
   "metadata": {},
   "outputs": [
    {
     "data": {
      "text/plain": [
       "3"
      ]
     },
     "execution_count": 20,
     "metadata": {},
     "output_type": "execute_result"
    }
   ],
   "source": [
    "vendors_df.count()"
   ]
  },
  {
   "cell_type": "markdown",
   "id": "5476cd65",
   "metadata": {},
   "source": [
    "<h3>If dates are in the future and that’s not expected, you might:</h3>\n",
    "\n",
    "<li>Flag them</li>\n",
    "<li>Impute</li>\n",
    "<li>Drop or investigate further</li>"
   ]
  },
  {
   "cell_type": "code",
   "execution_count": 28,
   "id": "762ca6c4",
   "metadata": {},
   "outputs": [
    {
     "name": "stdout",
     "output_type": "stream",
     "text": [
      "+----------+------------+--------+\n",
      "|invoice_id|invoice_date|due_date|\n",
      "+----------+------------+--------+\n",
      "+----------+------------+--------+\n",
      "\n",
      "+----------+------------+\n",
      "|invoice_id|payment_date|\n",
      "+----------+------------+\n",
      "+----------+------------+\n",
      "\n"
     ]
    }
   ],
   "source": [
    "# Check for Future Dates (e.g., beyond today)\n",
    "invoice_future_dts = invoices_df.select('invoice_id', 'invoice_date', 'due_date')\\\n",
    "                            .filter(col('invoice_date') > current_date())\\\n",
    "                            .filter(col('due_date') > current_date())\n",
    "invoice_future_dts.show()\n",
    "\n",
    "payments_future_dts = payments_df.select('invoice_id', 'payment_date')\\\n",
    "                                    .filter(col('payment_date')> current_date())\n",
    "payments_future_dts.show()"
   ]
  },
  {
   "cell_type": "markdown",
   "id": "f52fe433",
   "metadata": {},
   "source": [
    "<h3>Custom Valid Date Range Check</h3>\n",
    "Example: only accept dates from 2015 to 2025:"
   ]
  },
  {
   "cell_type": "code",
   "execution_count": 34,
   "id": "5656bbaa",
   "metadata": {},
   "outputs": [
    {
     "name": "stdout",
     "output_type": "stream",
     "text": [
      "+----------+------------+--------+\n",
      "|invoice_id|invoice_date|due_date|\n",
      "+----------+------------+--------+\n",
      "+----------+------------+--------+\n",
      "\n"
     ]
    }
   ],
   "source": [
    "invoice_custom_dt = invoices_df.select('invoice_id', 'invoice_date', 'due_date')\\\n",
    "                    .filter((year('invoice_date') < 2015) | (year('invoice_date') > 2025))\\\n",
    "                    .filter((year('due_date') < 2015) | (year('due_date') > 2025))\n",
    "invoice_custom_dt.show()"
   ]
  },
  {
   "cell_type": "code",
   "execution_count": 33,
   "id": "8ed0f511",
   "metadata": {},
   "outputs": [
    {
     "name": "stdout",
     "output_type": "stream",
     "text": [
      "+----------+------------+\n",
      "|invoice_id|payment_date|\n",
      "+----------+------------+\n",
      "+----------+------------+\n",
      "\n"
     ]
    }
   ],
   "source": [
    "payment_custom_dt = payments_df.select('invoice_id', 'payment_date')\\\n",
    "                                .filter((year('payment_date') < 2015) | (year('payment_date') > 2025))\n",
    "payment_custom_dt.show()"
   ]
  },
  {
   "cell_type": "code",
   "execution_count": 41,
   "id": "d5a57dd9",
   "metadata": {},
   "outputs": [
    {
     "name": "stdout",
     "output_type": "stream",
     "text": [
      "+----------+---------+------------+----------+------+\n",
      "|invoice_id|vendor_id|invoice_date|  due_date|amount|\n",
      "+----------+---------+------------+----------+------+\n",
      "|    INV001|     V001|  2024-01-05|2024-01-20|  2500|\n",
      "|    INV002|     V002|  2024-01-07|2024-01-17|  4600|\n",
      "|    INV003|     V001|  2024-01-10|2024-01-25|  1250|\n",
      "|    INV004|     V003|  2024-01-15|2024-01-30|  3000|\n",
      "|    INV005|     V002|  2024-01-20|2024-02-01|  5000|\n",
      "|    INV006|     V003|  2024-01-16|2024-02-01|  3500|\n",
      "+----------+---------+------------+----------+------+\n",
      "\n"
     ]
    }
   ],
   "source": [
    "# Impute Future dates with Current Date\n",
    "invoices_df = invoices_df.withColumn('invoice_date', \\\n",
    "                        when(col('invoice_date') > current_date(), current_date())\\\n",
    "                        .otherwise(col('invoice_date')))\\\n",
    "                        .withColumn('due_date', \\\n",
    "                        when(col('due_date') > current_date(), current_date())\\\n",
    "                        .otherwise(col('due_date')))\n",
    "invoices_df.show()"
   ]
  },
  {
   "cell_type": "code",
   "execution_count": 51,
   "id": "5e5e1ef2",
   "metadata": {},
   "outputs": [
    {
     "name": "stdout",
     "output_type": "stream",
     "text": [
      "+----------+----------+------------+\n",
      "|payment_id|invoice_id|payment_date|\n",
      "+----------+----------+------------+\n",
      "|    PAY101|    INV001|  2024-01-19|\n",
      "|    PAY102|    INV002|  2024-01-18|\n",
      "|    PAY103|    INV003|  2024-01-23|\n",
      "|    PAY104|    INV004|  2024-02-01|\n",
      "|    PAY105|    INV005|  2024-01-31|\n",
      "|    PAY106|    INV006|  2024-02-01|\n",
      "+----------+----------+------------+\n",
      "\n"
     ]
    }
   ],
   "source": [
    "payments_df = payments_df.withColumn('payment_date', \\\n",
    "                        when(col('payment_date') > current_date(), current_date())\\\n",
    "                        .otherwise(col('payment_date')))\n",
    "payments_df.show()"
   ]
  },
  {
   "cell_type": "markdown",
   "id": "1997faea",
   "metadata": {},
   "source": [
    "<h3>Join invoices with payments</h3>"
   ]
  },
  {
   "cell_type": "code",
   "execution_count": 24,
   "id": "114e5b55",
   "metadata": {},
   "outputs": [
    {
     "name": "stdout",
     "output_type": "stream",
     "text": [
      "+----------+---------+------------+----------+------+----------+------------+\n",
      "|invoice_id|vendor_id|invoice_date|  due_date|amount|payment_id|payment_date|\n",
      "+----------+---------+------------+----------+------+----------+------------+\n",
      "|    INV001|     V001|  2024-01-05|2024-01-20|  2500|    PAY101|  2024-01-19|\n",
      "|    INV002|     V002|  2024-01-07|2024-01-17|  4600|    PAY102|  2024-01-18|\n",
      "|    INV003|     V001|  2024-01-10|2024-01-25|  1250|    PAY103|  2024-01-23|\n",
      "|    INV004|     V003|  2024-01-15|2024-01-30|  3000|    PAY104|  2024-02-01|\n",
      "|    INV005|     V002|  2024-01-20|2024-02-01|  5000|    PAY105|  2024-01-31|\n",
      "|    INV006|     V003|  2024-01-16|2024-02-01|  3500|    PAY106|  2024-02-01|\n",
      "+----------+---------+------------+----------+------+----------+------------+\n",
      "\n"
     ]
    }
   ],
   "source": [
    "joined_df = invoices_df.join(payments_df, how='inner', on='invoice_id')\n",
    "joined_df.show()"
   ]
  },
  {
   "cell_type": "markdown",
   "id": "5599096d",
   "metadata": {},
   "source": [
    "<h3>Calculate payment_delay = (payment_date - due_date)</h3>"
   ]
  },
  {
   "cell_type": "code",
   "execution_count": 25,
   "id": "ed320198",
   "metadata": {},
   "outputs": [
    {
     "name": "stdout",
     "output_type": "stream",
     "text": [
      "+----------+---------+------------+----------+------+----------+------------+-------------+\n",
      "|invoice_id|vendor_id|invoice_date|  due_date|amount|payment_id|payment_date|payment_delay|\n",
      "+----------+---------+------------+----------+------+----------+------------+-------------+\n",
      "|    INV001|     V001|  2024-01-05|2024-01-20|  2500|    PAY101|  2024-01-19|           -1|\n",
      "|    INV002|     V002|  2024-01-07|2024-01-17|  4600|    PAY102|  2024-01-18|            1|\n",
      "|    INV003|     V001|  2024-01-10|2024-01-25|  1250|    PAY103|  2024-01-23|           -2|\n",
      "|    INV004|     V003|  2024-01-15|2024-01-30|  3000|    PAY104|  2024-02-01|            2|\n",
      "|    INV005|     V002|  2024-01-20|2024-02-01|  5000|    PAY105|  2024-01-31|           -1|\n",
      "|    INV006|     V003|  2024-01-16|2024-02-01|  3500|    PAY106|  2024-02-01|            0|\n",
      "+----------+---------+------------+----------+------+----------+------------+-------------+\n",
      "\n"
     ]
    }
   ],
   "source": [
    "delay_df = joined_df.withColumn('payment_delay', date_diff(col('payment_date'), col('due_date')))\n",
    "delay_df.show()"
   ]
  },
  {
   "cell_type": "markdown",
   "id": "997536ec",
   "metadata": {},
   "source": [
    "<h3>Assign payment_status:</h3>\n",
    "<li>\t\"Early\" if paid before due_date</li>\n",
    "<li>\"On Time\" if paid exactly on due_date</li>\n",
    "<li>\t\"Late\" if paid after due_date</li>"
   ]
  },
  {
   "cell_type": "code",
   "execution_count": 31,
   "id": "99179620",
   "metadata": {},
   "outputs": [
    {
     "name": "stdout",
     "output_type": "stream",
     "text": [
      "+----------+---------+------------+------+----------+--------------+\n",
      "|invoice_id|vendor_id|invoice_date|amount|payment_id|payment_status|\n",
      "+----------+---------+------------+------+----------+--------------+\n",
      "|    INV001|     V001|  2024-01-05|  2500|    PAY101|         Early|\n",
      "|    INV002|     V002|  2024-01-07|  4600|    PAY102|          Late|\n",
      "|    INV003|     V001|  2024-01-10|  1250|    PAY103|         Early|\n",
      "|    INV004|     V003|  2024-01-15|  3000|    PAY104|          Late|\n",
      "|    INV005|     V002|  2024-01-20|  5000|    PAY105|         Early|\n",
      "|    INV006|     V003|  2024-01-16|  3500|    PAY106|       On Time|\n",
      "+----------+---------+------------+------+----------+--------------+\n",
      "\n"
     ]
    }
   ],
   "source": [
    "status_df = delay_df.withColumn('payment_status', when(col('payment_delay') < 0, 'Early')\\\n",
    "                               .when(col('payment_delay') == 0, 'On Time')\\\n",
    "                               .otherwise('Late'))\\\n",
    "                    .select('invoice_id', 'vendor_id', 'invoice_date', 'amount', \\\n",
    "                            'payment_id', 'payment_status')\n",
    "status_df.show()"
   ]
  },
  {
   "cell_type": "markdown",
   "id": "61f9b6bf",
   "metadata": {},
   "source": [
    "<h3>Aggregate Metrics:</h3>\n",
    "\n",
    "<li>Avg delay per vendor</li>\n",
    "<li>of late payments</li>\n",
    "<li>Monthly trend of delays</li>"
   ]
  },
  {
   "cell_type": "code",
   "execution_count": 41,
   "id": "46c171d2",
   "metadata": {},
   "outputs": [
    {
     "name": "stdout",
     "output_type": "stream",
     "text": [
      "+---------+--------------------+\n",
      "|vendor_id|avg_delay_per_vendor|\n",
      "+---------+--------------------+\n",
      "|     V001|                -1.5|\n",
      "|     V003|                 1.0|\n",
      "|     V002|                 0.0|\n",
      "+---------+--------------------+\n",
      "\n"
     ]
    }
   ],
   "source": [
    "# Avg delay per vendor\n",
    "# spec = Window.partitionBy('vendor_id')\n",
    "avg_delay = delay_df.groupBy('vendor_id').agg((sum(col('payment_delay'))/count(col('payment_delay')))\\\n",
    "                                             .alias('avg_delay_per_vendor'))\\\n",
    "                                            \n",
    "avg_delay.show()"
   ]
  },
  {
   "cell_type": "code",
   "execution_count": 69,
   "id": "8cc18b57",
   "metadata": {},
   "outputs": [
    {
     "name": "stdout",
     "output_type": "stream",
     "text": [
      "Total no. of late payments:  2\n",
      "+---------+------------------+\n",
      "|vendor_id|late_payment_count|\n",
      "+---------+------------------+\n",
      "|     V001|                 0|\n",
      "|     V003|                 1|\n",
      "|     V002|                 1|\n",
      "+---------+------------------+\n",
      "\n"
     ]
    }
   ],
   "source": [
    "# Number of Late Payments\n",
    "late_payments = status_df.filter(col('payment_status') == 'Late').count()\n",
    "print('Total no. of late payments: ',late_payments)\n",
    "\n",
    "# or get in a dataframe\n",
    "late_payments_df = status_df.groupBy('vendor_id')\\\n",
    "                .agg(count(when(col('payment_status') == 'Late', True)).alias('late_payment_count'))\n",
    "\n",
    "late_payments_df.show()"
   ]
  },
  {
   "cell_type": "code",
   "execution_count": 71,
   "id": "111ad5b9",
   "metadata": {},
   "outputs": [
    {
     "name": "stdout",
     "output_type": "stream",
     "text": [
      "root\n",
      " |-- invoice_id: string (nullable = true)\n",
      " |-- vendor_id: string (nullable = true)\n",
      " |-- invoice_date: date (nullable = true)\n",
      " |-- due_date: date (nullable = true)\n",
      " |-- amount: integer (nullable = true)\n",
      " |-- payment_id: string (nullable = true)\n",
      " |-- payment_date: date (nullable = true)\n",
      " |-- payment_delay: integer (nullable = true)\n",
      "\n",
      "+----------+---------+------------+----------+------+----------+------------+-------------+\n",
      "|invoice_id|vendor_id|invoice_date|  due_date|amount|payment_id|payment_date|payment_delay|\n",
      "+----------+---------+------------+----------+------+----------+------------+-------------+\n",
      "|    INV001|     V001|  2024-01-05|2024-01-20|  2500|    PAY101|  2024-01-19|           -1|\n",
      "|    INV002|     V002|  2024-01-07|2024-01-17|  4600|    PAY102|  2024-01-18|            1|\n",
      "|    INV003|     V001|  2024-01-10|2024-01-25|  1250|    PAY103|  2024-01-23|           -2|\n",
      "|    INV004|     V003|  2024-01-15|2024-01-30|  3000|    PAY104|  2024-02-01|            2|\n",
      "|    INV005|     V002|  2024-01-20|2024-02-01|  5000|    PAY105|  2024-01-31|           -1|\n",
      "|    INV006|     V003|  2024-01-16|2024-02-01|  3500|    PAY106|  2024-02-01|            0|\n",
      "+----------+---------+------------+----------+------+----------+------------+-------------+\n",
      "\n"
     ]
    }
   ],
   "source": [
    "# Monthly trend of delays\n",
    "# To achieve this let's first calculate average delay per month, on the basis of the due_date\n",
    "\n",
    "#let's first make sure that the due_date is in accurate date format\n",
    "delay_df.printSchema()\n",
    "delay_df.show()"
   ]
  },
  {
   "cell_type": "code",
   "execution_count": 82,
   "id": "ab639609",
   "metadata": {},
   "outputs": [
    {
     "name": "stdout",
     "output_type": "stream",
     "text": [
      "+----------+----------+-------------+\n",
      "|  due_date|year_month|payment_delay|\n",
      "+----------+----------+-------------+\n",
      "|2024-01-20|   2024-01|           -1|\n",
      "|2024-01-17|   2024-01|            1|\n",
      "|2024-01-25|   2024-01|           -2|\n",
      "|2024-01-30|   2024-01|            2|\n",
      "|2024-02-01|   2024-02|           -1|\n",
      "|2024-02-01|   2024-02|            0|\n",
      "+----------+----------+-------------+\n",
      "\n",
      "+----------+-----------+\n",
      "|year_month|# of Delays|\n",
      "+----------+-----------+\n",
      "|   2024-02|          0|\n",
      "|   2024-01|          2|\n",
      "+----------+-----------+\n",
      "\n"
     ]
    }
   ],
   "source": [
    "temp_df = delay_df.withColumn('year_month', date_format(col('due_date'), 'yyyy-MM'))\\\n",
    "                            .select('due_date', 'year_month', 'payment_delay')\n",
    "temp_df.show()\n",
    "monthly_delay_df = temp_df.groupBy('year_month')\\\n",
    "                                .agg(count(when(col('payment_delay') > 0, True)).alias('# of Delays'))\n",
    "monthly_delay_df.show()"
   ]
  }
 ],
 "metadata": {
  "kernelspec": {
   "display_name": "Python 3 (ipykernel)",
   "language": "python",
   "name": "python3"
  },
  "language_info": {
   "codemirror_mode": {
    "name": "ipython",
    "version": 3
   },
   "file_extension": ".py",
   "mimetype": "text/x-python",
   "name": "python",
   "nbconvert_exporter": "python",
   "pygments_lexer": "ipython3",
   "version": "3.9.18"
  }
 },
 "nbformat": 4,
 "nbformat_minor": 5
}
